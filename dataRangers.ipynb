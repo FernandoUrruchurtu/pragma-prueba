{
 "cells": [
  {
   "cell_type": "markdown",
   "metadata": {},
   "source": [
    "# Data Rangers: Prueba de Ingenieria de Datos Pragma"
   ]
  },
  {
   "cell_type": "code",
   "execution_count": null,
   "metadata": {},
   "outputs": [
    {
     "data": {
      "text/plain": [
       "True"
      ]
     },
     "execution_count": 1,
     "metadata": {},
     "output_type": "execute_result"
    }
   ],
   "source": [
    "import os\n",
    "import pandas as pd\n",
    "from dotenv import load_dotenv\n",
    "from utils.functions import list_datafile, batch_processing\n",
    "from pipeline.transforms import add_timestamp, parse_date\n",
    "from pipeline.load import row_loads\n",
    "from database.database import Database\n",
    "\n",
    "from utils.logs import PipelineLogs\n",
    "\n",
    "load_dotenv(dotenv_path='./db.env')"
   ]
  },
  {
   "cell_type": "code",
   "execution_count": 2,
   "metadata": {},
   "outputs": [],
   "source": [
    "logs = PipelineLogs(\"Loguiador\", 'logs.log', True, True).pipeline_logs()"
   ]
  },
  {
   "cell_type": "code",
   "execution_count": 3,
   "metadata": {},
   "outputs": [
    {
     "data": {
      "text/plain": [
       "[<RotatingFileHandler /home/fernando/Desktop/Prueba_Pragma/logs.log (NOTSET)>,\n",
       " <StreamHandler stdout (NOTSET)>]"
      ]
     },
     "execution_count": 3,
     "metadata": {},
     "output_type": "execute_result"
    }
   ],
   "source": [
    "logs.handlers"
   ]
  },
  {
   "cell_type": "code",
   "execution_count": 4,
   "metadata": {},
   "outputs": [
    {
     "name": "stdout",
     "output_type": "stream",
     "text": [
      "[LINE:1] #INFO     [2025-02-12 16:57:39,892] Informacion necesaria\n"
     ]
    }
   ],
   "source": [
    "logs.info(\"Informacion necesaria\")"
   ]
  },
  {
   "cell_type": "code",
   "execution_count": null,
   "metadata": {},
   "outputs": [],
   "source": [
    "USER = os.getenv('DB_USER')\n",
    "PWD = os.getenv('DB_PASSWORD')\n",
    "HOST = os.getenv('DB_HOST')\n",
    "DB = os.getenv('DATABASE_NAME')\n",
    "\n",
    "CHUNKSIZE = 3\n",
    "\n",
    "plsql_db = Database(HOST, USER, PWD, DB)"
   ]
  },
  {
   "cell_type": "code",
   "execution_count": null,
   "metadata": {},
   "outputs": [],
   "source": [
    "pathlist = list_datafile(path='./data')\n",
    "files = pathlist\n",
    "for f in files:\n",
    "    df_gen = batch_processing(f, chunks=CHUNKSIZE)\n",
    "    for ch in df_gen:\n",
    "        dfs:pd.DataFrame = ch\n",
    "        df =(\n",
    "            dfs.pipe(add_timestamp)\n",
    "            .pipe(parse_date)\n",
    "            )\n",
    "        for row in dfs.itertuples(index=False):\n",
    "            row, calendar_row = row_loads(row)\n",
    "            plsql_db.insert(row, 'sales')\n",
    "            print(f'-> inserting values in file {f}')"
   ]
  },
  {
   "cell_type": "code",
   "execution_count": null,
   "metadata": {},
   "outputs": [],
   "source": [
    "row['price'] = 40\n",
    "row"
   ]
  },
  {
   "cell_type": "code",
   "execution_count": null,
   "metadata": {},
   "outputs": [],
   "source": [
    "sales = plsql_db.sales\n",
    "engine = plsql_db.engine"
   ]
  },
  {
   "cell_type": "code",
   "execution_count": null,
   "metadata": {},
   "outputs": [],
   "source": [
    "from sqlalchemy import and_\n",
    "\n",
    "__columns = sales.columns\n",
    "stmt = sales.select().where(and_(__columns.user_id == row['user_id'], __columns.timestamp == row['timestamp'], __columns.price == row['price']))"
   ]
  },
  {
   "cell_type": "code",
   "execution_count": null,
   "metadata": {},
   "outputs": [],
   "source": [
    "result = plsql_db.__querys(stmt)"
   ]
  },
  {
   "cell_type": "code",
   "execution_count": null,
   "metadata": {},
   "outputs": [],
   "source": [
    "with engine.connect() as conn:\n",
    "    result = conn.execute(stmt)\n",
    "    values = result.fetchall()"
   ]
  },
  {
   "cell_type": "code",
   "execution_count": null,
   "metadata": {},
   "outputs": [],
   "source": [
    "values[0][0]"
   ]
  },
  {
   "cell_type": "code",
   "execution_count": null,
   "metadata": {},
   "outputs": [],
   "source": [
    "stmt = sales.update().where(__columns.unique_id == values[0][0]).values(row)\n",
    "\n",
    "with engine.connect() as conn:\n",
    "    result = conn.execute(stmt)\n",
    "    conn.commit()"
   ]
  },
  {
   "cell_type": "code",
   "execution_count": null,
   "metadata": {},
   "outputs": [],
   "source": [
    "stmt = sales.select().where(and_(__columns.user_id == row['user_id'], __columns.timestamp == row['timestamp'], __columns.price == row['price']))\n",
    "with engine.connect() as conn:\n",
    "    result = conn.execute(stmt)\n",
    "    values = result.fetchall()\n",
    "    conn.commit()\n",
    "\n",
    "values"
   ]
  },
  {
   "cell_type": "code",
   "execution_count": null,
   "metadata": {},
   "outputs": [],
   "source": [
    "stmt = sales.update().values(row)\n",
    "\n",
    "with engine.connect() as conn:\n",
    "    result = conn.execute(stmt)\n",
    "    conn.commit()"
   ]
  },
  {
   "cell_type": "code",
   "execution_count": null,
   "metadata": {},
   "outputs": [],
   "source": []
  }
 ],
 "metadata": {
  "kernelspec": {
   "display_name": ".venv",
   "language": "python",
   "name": "python3"
  },
  "language_info": {
   "codemirror_mode": {
    "name": "ipython",
    "version": 3
   },
   "file_extension": ".py",
   "mimetype": "text/x-python",
   "name": "python",
   "nbconvert_exporter": "python",
   "pygments_lexer": "ipython3",
   "version": "3.12.3"
  }
 },
 "nbformat": 4,
 "nbformat_minor": 2
}
